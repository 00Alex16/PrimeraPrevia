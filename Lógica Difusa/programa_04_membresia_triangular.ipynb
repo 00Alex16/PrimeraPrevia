{
  "nbformat": 4,
  "nbformat_minor": 0,
  "metadata": {
    "kernelspec": {
      "display_name": "Python 3",
      "language": "python",
      "name": "python3"
    },
    "language_info": {
      "codemirror_mode": {
        "name": "ipython",
        "version": 3
      },
      "file_extension": ".py",
      "mimetype": "text/x-python",
      "name": "python",
      "nbconvert_exporter": "python",
      "pygments_lexer": "ipython3",
      "version": "3.7.6"
    },
    "colab": {
      "name": "programa_04_membresia_triangular.ipynb",
      "provenance": [],
      "include_colab_link": true
    }
  },
  "cells": [
    {
      "cell_type": "markdown",
      "metadata": {
        "id": "view-in-github",
        "colab_type": "text"
      },
      "source": [
        "<a href=\"https://colab.research.google.com/github/00Alex16/PrimeraPrevia/blob/main/L%C3%B3gica%20Difusa/programa_04_membresia_triangular.ipynb\" target=\"_parent\"><img src=\"https://colab.research.google.com/assets/colab-badge.svg\" alt=\"Open In Colab\"/></a>"
      ]
    },
    {
      "cell_type": "code",
      "metadata": {
        "id": "u36oeuCp-p0p",
        "colab": {
          "base_uri": "https://localhost:8080/",
          "height": 312
        },
        "outputId": "303ce932-ed46-4cea-afa8-fc772a89645c"
      },
      "source": [
        "# Función de Membresía Triangular\n",
        "\n",
        "# Librería para el manejo de arrays\n",
        "import numpy as np\n",
        "# Librería para generar la función de membresía triangular\n",
        "import skfuzzy as sk\n",
        "# Librería para gráficar los resultados\n",
        "import matplotlib.pyplot as plt\n",
        "\n",
        "# Se define un array x para el manejo del factor de calidad en un restaurante\n",
        "x = np.arange(0, 11, 1)\n",
        "\n",
        "# Se define un array para la función miembro de tipo triangular\n",
        "calidad = sk.trimf(x, [9, 9, 10])\n",
        "\n",
        "# Se grafica la función de membresía\n",
        "plt.figure()\n",
        "plt.plot(x, calidad, 'b', linewidth=1.5, label='Servicio')\n",
        "\n",
        "plt.title('Calidad del Servicio en un Restaurante')\n",
        "plt.ylabel('Membresía')\n",
        "plt.xlabel(\"Nivel de Servicio\")\n",
        "plt.legend(loc='center right', bbox_to_anchor=(1.25, 0.5), ncol=1, fancybox=True, shadow=True)"
      ],
      "execution_count": 2,
      "outputs": [
        {
          "output_type": "execute_result",
          "data": {
            "text/plain": [
              "<matplotlib.legend.Legend at 0x7fc1294bdc50>"
            ]
          },
          "metadata": {},
          "execution_count": 2
        },
        {
          "output_type": "display_data",
          "data": {
            "image/png": "[encoded data removed]",
            "text/plain": [
              "<Figure size 432x288 with 1 Axes>"
            ]
          },
          "metadata": {
            "needs_background": "light"
          }
        }
      ]
    }
  ]
}